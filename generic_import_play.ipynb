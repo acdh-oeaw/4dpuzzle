{
 "cells": [
  {
   "cell_type": "code",
   "execution_count": null,
   "metadata": {},
   "outputs": [],
   "source": [
    "import os\n",
    "import glob\n",
    "import math\n",
    "\n",
    "import pandas as pd\n",
    "\n",
    "from django.apps import apps\n",
    "from django.db.utils import DataError\n",
    "from django.core.exceptions import FieldDoesNotExist"
   ]
  },
  {
   "cell_type": "code",
   "execution_count": null,
   "metadata": {},
   "outputs": [],
   "source": [
    "all_models = [x for x in apps.all_models['vases'].values()]"
   ]
  },
  {
   "cell_type": "code",
   "execution_count": null,
   "metadata": {},
   "outputs": [],
   "source": [
    "for current_class in all_models:\n",
    "    model_name = current_class.__name__\n",
    "    source_file = os.path.join(settings.BASE_DIR, 'odeeg','data', 'dumps', 'forimport', '{}.xlsx'.format(model_name))\n",
    "    try:\n",
    "        df_data = pd.read_excel(source_file)\n",
    "        print(source_file)\n",
    "    except FileNotFoundError:\n",
    "        df_data = False\n",
    "    if isinstance(df_data, pd.DataFrame):\n",
    "        df_keys = df_data.keys()\n",
    "        nr_cols = len(df_keys)\n",
    "        for i, row in df_data.iterrows():\n",
    "            temp_item, _ = current_class.objects.get_or_create(legacy_id=row[0])\n",
    "            col_counter = 0\n",
    "            while col_counter < nr_cols:\n",
    "                cur_attr = df_keys[col_counter]\n",
    "                try:\n",
    "                    cur_attr_type = current_class._meta.get_field(df_keys[col_counter]).get_internal_type()\n",
    "                except FieldDoesNotExist:\n",
    "                    cur_attr_type = None\n",
    "                if cur_attr_type is not None:\n",
    "                    if \"{}\".format(cur_attr_type) == \"CharField\":\n",
    "                        try:\n",
    "                            my_val = \"{}\".format(row[cur_attr])[:249]\n",
    "                            setattr(temp_item, cur_attr, my_val)\n",
    "                        except TypeError:\n",
    "                            pass\n",
    "                    elif \"{}\".format(cur_attr_type) == \"ForeignKey\" and isinstance(row[cur_attr], str):\n",
    "                        fk  = current_class._meta.get_field(df_keys[col_counter])\n",
    "                        temp_rel_obj, _ = fk.related_model.objects.get_or_create(legacy_id=row[cur_attr])\n",
    "                        setattr(temp_item, cur_attr, temp_rel_obj)\n",
    "                    elif \"{}\".format(cur_attr_type) == \"ManyToManyField\" and isinstance(row[cur_attr], str):\n",
    "                        fk = current_class._meta.get_field(df_keys[col_counter])\n",
    "                        rel_things = []\n",
    "                        for x in row[cur_attr].split(\";\"):\n",
    "                            temp_rel_obj, _ = fk.related_model.objects.get_or_create(legacy_id=x.strip())\n",
    "                            rel_things.append(temp_rel_obj)\n",
    "                            m2m_attr = getattr(temp_item, cur_attr)\n",
    "                        m2m_attr.set(rel_things)\n",
    "                    elif \"{}\".format(cur_attr_type) == \"TextField\" and isinstance(row[cur_attr], str):\n",
    "                        setattr(temp_item, cur_attr, row[cur_attr])\n",
    "                    elif \"{}\".format(cur_attr_type) == \"DecimalField\":\n",
    "                        try:\n",
    "                            value = float(row[cur_attr])\n",
    "                        except ValueError:\n",
    "                            \n",
    "                            print(\"{} can't be parsed as float\".format(row[cur_attr]))\n",
    "                            value = math.nan\n",
    "                        if value is not None:\n",
    "                            setattr(temp_item, cur_attr, value)\n",
    "                temp_item.save()\n",
    "                col_counter += 1\n",
    "#                 print(col_counter)"
   ]
  },
  {
   "cell_type": "code",
   "execution_count": null,
   "metadata": {},
   "outputs": [],
   "source": [
    "# for x in all_models:\n",
    "#     [y.delete() for y in x.objects.all()]"
   ]
  },
  {
   "cell_type": "code",
   "execution_count": null,
   "metadata": {},
   "outputs": [],
   "source": []
  },
  {
   "cell_type": "code",
   "execution_count": null,
   "metadata": {},
   "outputs": [],
   "source": []
  }
 ],
 "metadata": {
  "kernelspec": {
   "display_name": "Django Shell-Plus",
   "language": "python",
   "name": "django_extensions"
  },
  "language_info": {
   "codemirror_mode": {
    "name": "ipython",
    "version": 3
   },
   "file_extension": ".py",
   "mimetype": "text/x-python",
   "name": "python",
   "nbconvert_exporter": "python",
   "pygments_lexer": "ipython3",
   "version": "3.7.3"
  }
 },
 "nbformat": 4,
 "nbformat_minor": 2
}
