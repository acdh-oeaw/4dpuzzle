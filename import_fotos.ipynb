{
 "cells": [
  {
   "cell_type": "code",
   "execution_count": 1,
   "metadata": {
    "collapsed": true
   },
   "outputs": [],
   "source": [
    "import pandas as pd\n",
    "from django.utils.dateparse import parse_date\n",
    "from datetime import date"
   ]
  },
  {
   "cell_type": "code",
   "execution_count": 2,
   "metadata": {
    "collapsed": true
   },
   "outputs": [],
   "source": [
    "file = 'archiv/data/Fotos_Metadaten.xlsx'\n",
    "df = pd.read_excel(file)"
   ]
  },
  {
   "cell_type": "code",
   "execution_count": 8,
   "metadata": {
    "collapsed": true
   },
   "outputs": [],
   "source": [
    "for index, row in df.iterrows():\n",
    "    foto, _ = Foto.objects.get_or_create(composed_id= row['Filename TD_SWdig/FFdig/FDdig_Filmnummer_Fotonummer__TD_InvNr.//Areal_Planquadrat_Planum/Profil/Detailnummer'])\n",
    "    foto.document_id =row['Document_ID']\n",
    "    foto.photo_title = row['Photo_title__inventory_no_find_area_square']\n",
    "    foto.film_number = row['Film_number']\n",
    "    foto.film_id = row['Film_ID']\n",
    "    foto.photo_number = row['Photo_number']\n",
    "    foto.original_film_folder = row['Original_film_folder']\n",
    "    foto.year = row['Year']\n",
    "    foto.metadata_comment = row['Scanning_comment']\n",
    "    if row['Metadata_creation_date'] is date:\n",
    "        foto.metadata_creation_date = row['Metadata_creation_date']\n",
    "    else:\n",
    "        pass\n",
    "    temp_site, _ = Site.objects.get_or_create(name=row['Site'])\n",
    "    foto.site = temp_site\n",
    "    foto.save()"
   ]
  },
  {
   "cell_type": "code",
   "execution_count": 30,
   "metadata": {
    "collapsed": true
   },
   "outputs": [],
   "source": [
    "for index, row in df.iterrows():\n",
    "    foto, _ = Foto.objects.get_or_create(composed_id= row['Filename TD_SWdig/FFdig/FDdig_Filmnummer_Fotonummer__TD_InvNr.//Areal_Planquadrat_Planum/Profil/Detailnummer'])\n",
    "    try:\n",
    "        temp_di_fot_type, _ = SkosConcept.objects.get_or_create(pref_label=row['Digital_photo_type'])\n",
    "        foto.digital_photo_type = temp_di_fot_type\n",
    "        foto.save()\n",
    "    except:\n",
    "        pass\n",
    "    try:\n",
    "        temp_di_fot_format, _ = SkosConcept.objects.get_or_create(pref_label=row['Format'])\n",
    "        foto.foto_format = temp_di_fot_format\n",
    "        foto.save()\n",
    "    except:\n",
    "        pass\n",
    "    try:\n",
    "        temp_foto_type, _ = SkosConcept.objects.get_or_create(pref_label=row['Photo_type'])\n",
    "        foto.foto_type = temp_foto_type\n",
    "        foto.save()\n",
    "    except:\n",
    "        pass\n",
    "    try:\n",
    "        for x in row['Photographer'].split('|'):\n",
    "            temp_photographer, _ = Person.objects.get_or_create(fullname=x)\n",
    "            foto.photographer = temp_photographer\n",
    "            foto.save()\n",
    "    except:\n",
    "        pass\n",
    "\n",
    "    temp_photographer, _ = Person.objects.get_or_create(fullname=row['Photographer'])\n",
    "    foto.photographer = temp_photographer\n",
    "    foto.save()\n",
    "    \n",
    "    try:\n",
    "        for x in row['Metadata_creator'].split('|'):\n",
    "            temp_md_cre, _ = Person.objects.get_or_create(fullname=x)\n",
    "            foto.metadata_creator.add(temp_md_cre)\n",
    "            foto.save()\n",
    "    except:\n",
    "        pass\n",
    "    \n",
    "    try:\n",
    "        for x in row['PT_content_type'].split('|'):\n",
    "            temp_ct, _ = SkosConcept.objects.get_or_create(pref_label=x)\n",
    "            foto.content_type.add(temp_ct)\n",
    "            foto.save()\n",
    "    except:\n",
    "        pass\n",
    "    \n",
    "    temp_scale, _ = SkosConcept.objects.get_or_create(pref_label=row['Scale'])\n",
    "    foto.scale = temp_scale\n",
    "    foto.save()"
   ]
  },
  {
   "cell_type": "code",
   "execution_count": 3,
   "metadata": {
    "collapsed": true
   },
   "outputs": [],
   "source": [
    "for index, row in df.iterrows():\n",
    "    foto, _ = Foto.objects.get_or_create(composed_id= row['Filename TD_SWdig/FFdig/FDdig_Filmnummer_Fotonummer__TD_InvNr.//Areal_Planquadrat_Planum/Profil/Detailnummer'])\n",
    "    temp_scan, _ = Scan.objects.get_or_create(filename=row['Filename TD_SWdig/FFdig/FDdig_Filmnummer_Fotonummer__TD_InvNr.//Areal_Planquadrat_Planum/Profil/Detailnummer'])\n",
    "    temp_scan.save()\n",
    "    foto.scan.set([temp_scan])   \n",
    "    foto.save()\n",
    "    try:\n",
    "        for x in row['Scan_creator'].split('|'):\n",
    "            temp_creator, _ = Person.objects.get_or_create(fullname=x)\n",
    "            temp_scan.creator_scan.add(temp_creator)\n",
    "    except:\n",
    "        pass\n",
    "    \n",
    "    try:\n",
    "        for x in row['Equipment'].split('|'):\n",
    "            temp_eq, _ = SkosConcept.objects.get_or_create(pref_label=x)\n",
    "            temp_scan.equipment = temp_eq\n",
    "            temp_scan.save()\n",
    "    except:\n",
    "        pass\n",
    "    \n",
    "    try:\n",
    "        temp_scan.resolution = row['Pixel_size']\n",
    "        temp_scan.save()\n",
    "    except:\n",
    "        pass\n",
    "    try:\n",
    "        temp_scan.scan_date = parse_date(str(row['Scan_date']))\n",
    "        temp_scan.save()\n",
    "    else:\n",
    "        pass"
   ]
  },
  {
   "cell_type": "code",
   "execution_count": 7,
   "metadata": {},
   "outputs": [],
   "source": [
    "for index, row in df.iterrows():\n",
    "    temp_scan, _ = Scan.objects.get_or_create(filename=row['Filename TD_SWdig/FFdig/FDdig_Filmnummer_Fotonummer__TD_InvNr.//Areal_Planquadrat_Planum/Profil/Detailnummer'])\n",
    "    temp_scan.scan_date = parse_date(str(row['Scan_date']))\n",
    "    temp_scan.save()"
   ]
  },
  {
   "cell_type": "code",
   "execution_count": null,
   "metadata": {
    "collapsed": true
   },
   "outputs": [],
   "source": []
  }
 ],
 "metadata": {
  "kernelspec": {
   "display_name": "Django Shell-Plus",
   "language": "python",
   "name": "django_extensions"
  },
  "language_info": {
   "codemirror_mode": {
    "name": "ipython",
    "version": 3
   },
   "file_extension": ".py",
   "mimetype": "text/x-python",
   "name": "python",
   "nbconvert_exporter": "python",
   "pygments_lexer": "ipython3",
   "version": "3.6.2"
  }
 },
 "nbformat": 4,
 "nbformat_minor": 2
}
