{
 "cells": [
  {
   "cell_type": "code",
   "execution_count": 1,
   "metadata": {
    "collapsed": true
   },
   "outputs": [],
   "source": [
    "files = []\n",
    "for x in Stratunit.objects.all():\n",
    "    if x.resources_field.startswith('TD'):\n",
    "        files.append(\"{}__{}\".format(x.resources_field, x.excavation).replace(' ', ''))\n",
    "    else:\n",
    "        pass"
   ]
  },
  {
   "cell_type": "code",
   "execution_count": 2,
   "metadata": {},
   "outputs": [
    {
     "data": {
      "text/plain": [
       "{'TD_FZ_1000__TD_F-I_j21_Planum2',\n",
       " 'TD_FZ_1000__TD_F-I_j21_Planum_2',\n",
       " 'TD_FZ_1025__TD_F-I_j21_Planum0-1',\n",
       " 'TD_FZ_1025__TD_F-I_j21_Planum_0-1',\n",
       " 'TD_FZ_1026__TD_F-I_j21_Planum1',\n",
       " 'TD_FZ_1026__TD_F-I_j21_Planum_1',\n",
       " 'TD_FZ_1096__TD_F-I_j21_Planum_2-3',\n",
       " 'TD_FZ_1097__TD_F-I_j21_Planum3',\n",
       " 'TD_FZ_1097__TD_F-I_j21_Planum_3',\n",
       " 'TD_FZ_1098__TD_F-I_j21_Planum_4',\n",
       " 'TD_FZ_1099__TD_F-I_j21_Planum_4-5',\n",
       " 'TD_FZ_1099__TD_F-I_j21_Planum_5',\n",
       " 'TD_FZ_1099__TD_F-I_j21_Planum_5.1'}"
      ]
     },
     "execution_count": 2,
     "metadata": {},
     "output_type": "execute_result"
    }
   ],
   "source": [
    "set(files)"
   ]
  },
  {
   "cell_type": "code",
   "execution_count": 3,
   "metadata": {
    "collapsed": true
   },
   "outputs": [],
   "source": [
    "img_path, _ = ServerPath.objects.get_or_create(name=\"https://iiif.acdh.oeaw.ac.at\")"
   ]
  },
  {
   "cell_type": "code",
   "execution_count": 4,
   "metadata": {
    "collapsed": true
   },
   "outputs": [],
   "source": [
    "for x in set(files):\n",
    "    img, _ = Image.objects.get_or_create(filename=x)\n",
    "    img.file_extension = '.tif'\n",
    "    img.directory = '/p4d/TD_F-I_j21'\n",
    "    img.path = img_path\n",
    "    img.save()"
   ]
  },
  {
   "cell_type": "code",
   "execution_count": 5,
   "metadata": {},
   "outputs": [
    {
     "name": "stdout",
     "output_type": "stream",
     "text": [
      "info: 323\n",
      "no_info: 163\n",
      "keine: 37\n"
     ]
    }
   ],
   "source": [
    "info = 0\n",
    "no_info = 0\n",
    "keine = 0\n",
    "for x in Stratunit.objects.all():\n",
    "    if x.resources_field.startswith('TD'):\n",
    "        info += 1\n",
    "    elif x.resources_field.startswith('ke'):\n",
    "        keine += 1\n",
    "    else:\n",
    "        no_info += 1\n",
    "print(\"info: {}\".format(info))\n",
    "print(\"no_info: {}\".format(no_info))\n",
    "print(\"keine: {}\".format(keine))"
   ]
  },
  {
   "cell_type": "code",
   "execution_count": null,
   "metadata": {
    "collapsed": true
   },
   "outputs": [],
   "source": []
  }
 ],
 "metadata": {
  "kernelspec": {
   "display_name": "Django Shell-Plus",
   "language": "python",
   "name": "django_extensions"
  },
  "language_info": {
   "codemirror_mode": {
    "name": "ipython",
    "version": 3
   },
   "file_extension": ".py",
   "mimetype": "text/x-python",
   "name": "python",
   "nbconvert_exporter": "python",
   "pygments_lexer": "ipython3",
   "version": "3.6.2"
  }
 },
 "nbformat": 4,
 "nbformat_minor": 2
}
