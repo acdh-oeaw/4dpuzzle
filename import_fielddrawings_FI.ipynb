{
 "cells": [
  {
   "cell_type": "code",
   "execution_count": 1,
   "metadata": {
    "collapsed": true
   },
   "outputs": [],
   "source": [
    "import pandas as pd\n",
    "from django.utils.dateparse import parse_date"
   ]
  },
  {
   "cell_type": "code",
   "execution_count": 2,
   "metadata": {
    "collapsed": true
   },
   "outputs": [],
   "source": [
    "file = 'archiv/data/Feldzeichnungen_Metadaten_A-II.xlsx'"
   ]
  },
  {
   "cell_type": "code",
   "execution_count": 3,
   "metadata": {
    "collapsed": true
   },
   "outputs": [],
   "source": [
    "df = pd.read_excel(file)"
   ]
  },
  {
   "cell_type": "code",
   "execution_count": 4,
   "metadata": {
    "collapsed": true
   },
   "outputs": [],
   "source": [
    "for index, row in df.iterrows():\n",
    "    fd,_ = Fielddrawing.objects.get_or_create(document_id=row['Document_ID'])\n",
    "    fd.year = row['Year']\n",
    "    \n",
    "    try:\n",
    "        for x in row['Document_type'].split('|'):\n",
    "            temp_doc_type, _ = SkosConcept.objects.get_or_create(pref_label=x)\n",
    "            fd.document_type.add(temp_doc_type)\n",
    "    except:\n",
    "        pass\n",
    "    \n",
    "    try:\n",
    "        for x in row['Document_subtype '].split('|'):\n",
    "            temp_doc_subtype, _ = SkosConcept.objects.get_or_create(pref_label=x)\n",
    "            fd.document_subtype.add(temp_doc_subtype)\n",
    "    except:\n",
    "        pass\n",
    "    \n",
    "    try:\n",
    "        for x in row['Month'].split('|'):\n",
    "            temp_month, _ = SkosConcept.objects.get_or_create(pref_label=x)\n",
    "            fd.month.add(temp_month)\n",
    "    except:\n",
    "        pass\n",
    "    try:\n",
    "        for x in row['Season'].split('|'):\n",
    "            temp_season, _ = SkosConcept.objects.get_or_create(pref_label=x)\n",
    "            fd.season.add(temp_season)\n",
    "    except:\n",
    "        pass\n",
    "    try:\n",
    "        for x in row['Scale'].split('|'):\n",
    "            temp_scale, _ = SkosConcept.objects.get_or_create(pref_label=x)\n",
    "            fd.scale.add(temp_scale)\n",
    "    except:\n",
    "        pass\n",
    "    try:\n",
    "        for x in row['Paper_type'].split('|'):\n",
    "            temp_papertype, _ = SkosConcept.objects.get_or_create(pref_label=x)\n",
    "            fd.paper_type.add(temp_papertype)\n",
    "    except:\n",
    "        pass\n",
    "    try:\n",
    "        for x in row['Square_trench'].split('|'):\n",
    "            temp_trench, _ = SquareTrench.objects.get_or_create(name=x)\n",
    "            fd.square_trence.add(temp_trench)\n",
    "    except:\n",
    "        pass\n",
    "    try:\n",
    "        for x in row['Planum'].split('|'):\n",
    "            temp_planum, _ = Planum.objects.get_or_create(name=x)\n",
    "            fd.planum.add(temp_planum)\n",
    "    except:\n",
    "        pass\n",
    "    \n",
    "    try:\n",
    "        for x in row['Drawn_by'].split('|'):\n",
    "            temp_drawned, _ = Person.objects.get_or_create(fullname=x)\n",
    "            fd.drawn_by.add(temp_drawned)\n",
    "    except:\n",
    "        pass\n",
    "    \n",
    "    temp_site, _ = Site.objects.get_or_create(name=row['Site'])\n",
    "    fd.site = temp_site\n",
    "    temp_area, _ = Area.objects.get_or_create(name=row['Area'])\n",
    "    fd.area = temp_area\n",
    "    try:\n",
    "        for x in row['Planum'].split('|'):\n",
    "            temp_planum, _ = Planum.objects.get_or_create(name=x)\n",
    "            fd.planum.add(temp_planum)\n",
    "    except:\n",
    "        pass\n",
    "    \n",
    "    temp_scan, _ = Scan.objects.get_or_create(filename=row['Filename'])\n",
    "    temp_scan.save()\n",
    "    fd.scan.set([temp_scan])   \n",
    "    fd.save()\n",
    "    try:\n",
    "        for x in row['Creator'].split('|'):\n",
    "            temp_creator, _ = Person.objects.get_or_create(fullname=x)\n",
    "            temp_scan.creator_scan.add(temp_creator)\n",
    "    except:\n",
    "        pass\n",
    "    \n",
    "    try:\n",
    "        for x in row['Equipment'].split('|'):\n",
    "            temp_eq, _ = SkosConcept.objects.get_or_create(pref_label=x)\n",
    "            temp_scan.equipment = temp_eq\n",
    "            temp_scan.save()\n",
    "    except:\n",
    "        pass\n",
    "    \n",
    "    try:\n",
    "        temp_scan.resolution = row['Resolution_dpi']\n",
    "        temp_scan.save()\n",
    "    except:\n",
    "        pass\n",
    "    \n",
    "    try:\n",
    "        temp_scan.scan_date = row['Scan_date']\n",
    "        temp_scan.save()\n",
    "    except:\n",
    "        pass\n",
    "    \n",
    "    try:\n",
    "        for x in row['Excavation_object_ID'].split('|'):\n",
    "            temp_excavob, _ = ExObject.objects.get_or_create(name=x)\n",
    "            fd.exobject.add(temp_excavob)\n",
    "    except:\n",
    "        pass\n",
    "    \n",
    "    try:\n",
    "        for x in row['Archaeological_object_ID'].split('|'):\n",
    "            temp_archob, _ = ArchObject.objects.get_or_create(name=x)\n",
    "            fd.archobject.add(temp_archob)\n",
    "    except:\n",
    "        pass\n",
    "    fd.save()\n"
   ]
  },
  {
   "cell_type": "code",
   "execution_count": null,
   "metadata": {
    "collapsed": true
   },
   "outputs": [],
   "source": []
  }
 ],
 "metadata": {
  "kernelspec": {
   "display_name": "Django Shell-Plus",
   "language": "python",
   "name": "django_extensions"
  },
  "language_info": {
   "codemirror_mode": {
    "name": "ipython",
    "version": 3
   },
   "file_extension": ".py",
   "mimetype": "text/x-python",
   "name": "python",
   "nbconvert_exporter": "python",
   "pygments_lexer": "ipython3",
   "version": "3.6.2"
  }
 },
 "nbformat": 4,
 "nbformat_minor": 2
}
