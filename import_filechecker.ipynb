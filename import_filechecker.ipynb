{
 "cells": [
  {
   "cell_type": "code",
   "execution_count": null,
   "metadata": {},
   "outputs": [],
   "source": [
    "import pandas as pd"
   ]
  },
  {
   "cell_type": "code",
   "execution_count": null,
   "metadata": {},
   "outputs": [],
   "source": [
    "from archeutils.utils import ARCHE_PREFIX_REMOVE"
   ]
  },
  {
   "cell_type": "code",
   "execution_count": null,
   "metadata": {},
   "outputs": [],
   "source": [
    "from filechecker.filechecker_utils import filechecker_to_df, filename_to_arche_id, remove_trailing_slash, path2cols"
   ]
  },
  {
   "cell_type": "code",
   "execution_count": null,
   "metadata": {},
   "outputs": [],
   "source": [
    "file = r\"filechecker/data/fileList.json\""
   ]
  },
  {
   "cell_type": "code",
   "execution_count": null,
   "metadata": {},
   "outputs": [],
   "source": [
    "df = filechecker_to_df(file)"
   ]
  },
  {
   "cell_type": "code",
   "execution_count": null,
   "metadata": {},
   "outputs": [],
   "source": [
    "df.head(2)"
   ]
  },
  {
   "cell_type": "code",
   "execution_count": null,
   "metadata": {},
   "outputs": [],
   "source": [
    "for gr in df.groupby('directory'):\n",
    "    col_fullname = f\"{gr[0]}\"\n",
    "    col_fullname = remove_trailing_slash(col_fullname.replace(ARCHE_PREFIX_REMOVE, ''))\n",
    "    if len(col_fullname) > 0:\n",
    "        fc_col, _ = FcCollection.objects.get_or_create(fc_fullname=col_fullname)\n",
    "        fc_col.fc_items = len(gr[1])\n",
    "        fc_col.fc_size = gr[1].sum(axis=0, skipna=True)['size']\n",
    "        fc_col.fc_lastmod = gr[1].sort_values(by=['lastmod'], ascending=False)['lastmod'].iloc[0]\n",
    "        fc_col.save()\n",
    "        for i, row in gr[1].iterrows():\n",
    "            res, _ = FcResource.objects.get_or_create(fc_fullname=f\"{row['name']}\")\n",
    "            res.fc_filename = f\"{row['filename']}\"\n",
    "            res.fc_lastmod = row.lastmod\n",
    "            res.fc_size = row['size']\n",
    "            res.fc_directory = fc_col\n",
    "            res.fc_type = row['type']\n",
    "            res.fc_extension = row['extension']\n",
    "            res.save()"
   ]
  },
  {
   "cell_type": "code",
   "execution_count": null,
   "metadata": {},
   "outputs": [],
   "source": [
    "for gr in df.groupby('directory'):\n",
    "    col_fullname = f\"{gr[0]}\"\n",
    "    col_fullname = remove_trailing_slash(col_fullname.replace(ARCHE_PREFIX_REMOVE, ''))\n",
    "    if len(col_fullname) > 0:\n",
    "        try:\n",
    "            path2cols(col_fullname)\n",
    "        except Exception as e:\n",
    "            print(f\"failed by {col_fullname} because of {e}\")"
   ]
  },
  {
   "cell_type": "code",
   "execution_count": null,
   "metadata": {},
   "outputs": [],
   "source": [
    "path2cols('PhysicalFeatures_Befunde_S20/Mehrere_Areale/Vermessung_Prospektion/Magnetik/Georadar_2007/Geophysics_Data/Working_Files')"
   ]
  },
  {
   "cell_type": "code",
   "execution_count": null,
   "metadata": {},
   "outputs": [],
   "source": [
    "fc_col.save()"
   ]
  },
  {
   "cell_type": "code",
   "execution_count": null,
   "metadata": {},
   "outputs": [],
   "source": [
    "FcResource.objects.all().count()"
   ]
  },
  {
   "cell_type": "code",
   "execution_count": null,
   "metadata": {},
   "outputs": [],
   "source": []
  },
  {
   "cell_type": "code",
   "execution_count": null,
   "metadata": {},
   "outputs": [],
   "source": []
  },
  {
   "cell_type": "code",
   "execution_count": null,
   "metadata": {},
   "outputs": [],
   "source": [
    "fc_cols = collections.Counter(list(df['directory'].values))"
   ]
  },
  {
   "cell_type": "code",
   "execution_count": null,
   "metadata": {},
   "outputs": [],
   "source": [
    "for key, value in fc_cols.items():\n",
    "    temp_fc_col, _ = FcCollection.objects.get_or_create(fc_fullname=key)\n",
    "    temp_fc_col.fc_items = int(value)\n",
    "    temp_fc_col.save()"
   ]
  },
  {
   "cell_type": "code",
   "execution_count": null,
   "metadata": {},
   "outputs": [],
   "source": [
    "dummy = r\"R:/OREA-EGYPT_Puzzle4D/ARCHE-preparation/original/AboutThisArchive_Archivinformation_E73/\""
   ]
  },
  {
   "cell_type": "code",
   "execution_count": null,
   "metadata": {},
   "outputs": [],
   "source": [
    "dummy.split('/')[-2]"
   ]
  },
  {
   "cell_type": "code",
   "execution_count": null,
   "metadata": {},
   "outputs": [],
   "source": []
  },
  {
   "cell_type": "code",
   "execution_count": null,
   "metadata": {},
   "outputs": [],
   "source": [
    "EXTENSION_HAS_CATEGORY_MAPPING.get('extension', 'https://vocabs.acdh.oeaw.ac.at/archecategory/dataset')"
   ]
  },
  {
   "cell_type": "code",
   "execution_count": null,
   "metadata": {},
   "outputs": [],
   "source": [
    "print(getattr(x, 'legacy_id', 'Hansi'))"
   ]
  },
  {
   "cell_type": "code",
   "execution_count": null,
   "metadata": {},
   "outputs": [],
   "source": [
    "x.fc_extension"
   ]
  },
  {
   "cell_type": "code",
   "execution_count": null,
   "metadata": {},
   "outputs": [],
   "source": [
    "FcCollection.objects.all().delete()"
   ]
  },
  {
   "cell_type": "code",
   "execution_count": null,
   "metadata": {},
   "outputs": [],
   "source": [
    "mylist = [1,2]"
   ]
  },
  {
   "cell_type": "code",
   "execution_count": null,
   "metadata": {},
   "outputs": [],
   "source": [
    "mylist[0:0]"
   ]
  },
  {
   "cell_type": "code",
   "execution_count": null,
   "metadata": {},
   "outputs": [],
   "source": []
  }
 ],
 "metadata": {
  "kernelspec": {
   "display_name": "Django Shell-Plus",
   "language": "python",
   "name": "django_extensions"
  },
  "language_info": {
   "codemirror_mode": {
    "name": "ipython",
    "version": 3
   },
   "file_extension": ".py",
   "mimetype": "text/x-python",
   "name": "python",
   "nbconvert_exporter": "python",
   "pygments_lexer": "ipython3",
   "version": "3.7.3"
  }
 },
 "nbformat": 4,
 "nbformat_minor": 2
}
