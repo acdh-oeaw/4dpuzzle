{
 "cells": [
  {
   "cell_type": "code",
   "execution_count": null,
   "metadata": {},
   "outputs": [],
   "source": [
    "import json\n",
    "import pandas as pd"
   ]
  },
  {
   "cell_type": "code",
   "execution_count": null,
   "metadata": {},
   "outputs": [],
   "source": [
    "from webpage.appcreator.import_utils import fetch_models\n",
    "from archeutils.filechecker_utils import filechecker_to_df, find_matching_objects"
   ]
  },
  {
   "cell_type": "code",
   "execution_count": null,
   "metadata": {},
   "outputs": [],
   "source": [
    "# file = r\"/mnt/OeAW_Projekte03/OREA-EGYPT_Puzzle4D/ARCHE-preparation/checkReports/2019_11_26_Puzzle4d/fileList.json\"\n",
    "file = r\"/home/csae8092/repos/p4d/data/fileList.json\""
   ]
  },
  {
   "cell_type": "code",
   "execution_count": null,
   "metadata": {},
   "outputs": [],
   "source": [
    "# data = json.load(open(file, \"r\", encoding=\"utf-8\"))"
   ]
  },
  {
   "cell_type": "code",
   "execution_count": null,
   "metadata": {},
   "outputs": [],
   "source": [
    "df = filechecker_to_df(file)"
   ]
  },
  {
   "cell_type": "code",
   "execution_count": null,
   "metadata": {},
   "outputs": [],
   "source": [
    "all_models = fetch_models('archiv')\n",
    "for i, row in df.iterrows():\n",
    "    leg_id = row['filename'].lower()\n",
    "    leg_id = leg_id.split('.')[0]\n",
    "    my_obj = find_matching_objects(all_models, leg_id)\n",
    "    if my_obj is None:\n",
    "        continue\n",
    "    else:\n",
    "        for prop in row.index:\n",
    "            my_prop = f\"fc_{prop}\"\n",
    "            my_val = f\"{row[prop]}\"\n",
    "            setattr(my_obj, my_prop, my_val)\n",
    "        my_obj.fc_match = True\n",
    "        my_obj.save()"
   ]
  },
  {
   "cell_type": "code",
   "execution_count": null,
   "metadata": {},
   "outputs": [],
   "source": [
    "items = Inventorybooks.objects.all()"
   ]
  },
  {
   "cell_type": "code",
   "execution_count": null,
   "metadata": {},
   "outputs": [],
   "source": [
    "items.count()"
   ]
  },
  {
   "cell_type": "code",
   "execution_count": null,
   "metadata": {},
   "outputs": [],
   "source": [
    "items.filter(fc_match=True).count()"
   ]
  },
  {
   "cell_type": "code",
   "execution_count": null,
   "metadata": {},
   "outputs": [],
   "source": [
    "def fc_match_quota(app_name):\n",
    "    summary = [\n",
    "        [\"class_name\", 'all_objects', 'matching_resource', 'no_matching_resource', 'percentage']\n",
    "    ]\n",
    "    all_models = fetch_models(app_name)\n",
    "    for x in all_models:\n",
    "        items = x.objects.all()\n",
    "        all_objects = items.count()\n",
    "        matches = x.objects.filter(fc_match=True).count()\n",
    "        misses = x.objects.exclude(fc_match=True).count()\n",
    "        class_name = x.__name__\n",
    "        try:\n",
    "            percentage = (matches / all_objects)*100 \n",
    "        except ZeroDivisionError:\n",
    "            percentage = 0\n",
    "        summary.append(\n",
    "            [class_name, all_objects, matches, misses, percentage]\n",
    "        )\n",
    "    return summary"
   ]
  },
  {
   "cell_type": "code",
   "execution_count": null,
   "metadata": {},
   "outputs": [],
   "source": [
    "table = fc_match_quota('archiv')"
   ]
  },
  {
   "cell_type": "code",
   "execution_count": null,
   "metadata": {},
   "outputs": [],
   "source": [
    "df = pd.DataFrame(table, columns=table[0])"
   ]
  },
  {
   "cell_type": "code",
   "execution_count": null,
   "metadata": {},
   "outputs": [],
   "source": [
    "df"
   ]
  },
  {
   "cell_type": "code",
   "execution_count": null,
   "metadata": {},
   "outputs": [],
   "source": [
    "df.to_csv('matching_binaries.csv')"
   ]
  },
  {
   "cell_type": "code",
   "execution_count": null,
   "metadata": {},
   "outputs": [],
   "source": []
  }
 ],
 "metadata": {
  "kernelspec": {
   "display_name": "Django Shell-Plus",
   "language": "python",
   "name": "django_extensions"
  },
  "language_info": {
   "codemirror_mode": {
    "name": "ipython",
    "version": 3
   },
   "file_extension": ".py",
   "mimetype": "text/x-python",
   "name": "python",
   "nbconvert_exporter": "python",
   "pygments_lexer": "ipython3",
   "version": "3.6.9"
  }
 },
 "nbformat": 4,
 "nbformat_minor": 2
}
