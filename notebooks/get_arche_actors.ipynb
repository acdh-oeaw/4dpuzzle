{
 "cells": [
  {
   "cell_type": "code",
   "execution_count": null,
   "metadata": {},
   "outputs": [],
   "source": [
    "from webpage.appcreator.import_utils import fetch_models\n",
    "from archeutils.utils import ARCHE_BASE_URI, acdh_ns"
   ]
  },
  {
   "cell_type": "code",
   "execution_count": null,
   "metadata": {},
   "outputs": [],
   "source": [
    "from django.utils.text import slugify"
   ]
  },
  {
   "cell_type": "code",
   "execution_count": null,
   "metadata": {},
   "outputs": [],
   "source": [
    "from archeutils.utils import get_p4d_id"
   ]
  },
  {
   "cell_type": "code",
   "execution_count": null,
   "metadata": {},
   "outputs": [],
   "source": [
    "def arche_actor_id(legacy_id):\n",
    "    slug = slugify(legacy_id)\n",
    "    return \"/\".join([ARCHE_BASE_URI, 'agents', slug])"
   ]
  },
  {
   "cell_type": "code",
   "execution_count": null,
   "metadata": {},
   "outputs": [],
   "source": [
    "models = fetch_models('archiv')"
   ]
  },
  {
   "cell_type": "code",
   "execution_count": null,
   "metadata": {},
   "outputs": [],
   "source": [
    "mapping = {\n",
    "    'creator_metadata': 'hasMetadataCreator',\n",
    "    'creator_original': 'hasCreator',\n",
    "    'creator_archivalobject': 'hasContributor',\n",
    "    'creator_scan': 'hasContributor',\n",
    "}"
   ]
  },
  {
   "cell_type": "code",
   "execution_count": null,
   "metadata": {},
   "outputs": [],
   "source": [
    "arche_dict = {}\n",
    "for x in models:\n",
    "    for key, value in mapping.items():\n",
    "        filter_expr = {f\"{key}__isnull\": True}\n",
    "        if hasattr(x, key):\n",
    "#             print(f\"{x} mapps {key} to {value}\")\n",
    "            matches = x.objects.exclude(fc_match=False)\n",
    "            for item in matches.exclude(**filter_expr):\n",
    "                arche_id = get_p4d_id(item)\n",
    "                if arche_id in arche_dict:\n",
    "                    pass\n",
    "                else:\n",
    "                    arche_dict[arche_id] = []\n",
    "                actor = getattr(item, key)\n",
    "                try:\n",
    "                    actor_leg = (value, arche_actor_id(actor.legacy_id))\n",
    "                    arche_dict[arche_id].append(actor_leg)\n",
    "                except AttributeError:\n",
    "                    for a in actor.get_queryset():\n",
    "                        arche_dict[arche_id].append((value, arche_actor_id(a.legacy_id)))"
   ]
  },
  {
   "cell_type": "code",
   "execution_count": null,
   "metadata": {
    "scrolled": true
   },
   "outputs": [],
   "source": [
    "import pickle"
   ]
  },
  {
   "cell_type": "code",
   "execution_count": null,
   "metadata": {},
   "outputs": [],
   "source": [
    "file = open('arche_contributors.pickle', 'wb')"
   ]
  },
  {
   "cell_type": "code",
   "execution_count": null,
   "metadata": {},
   "outputs": [],
   "source": [
    "pickle.dump(arche_dict, file)"
   ]
  },
  {
   "cell_type": "code",
   "execution_count": null,
   "metadata": {
    "scrolled": true
   },
   "outputs": [],
   "source": [
    "file.close()"
   ]
  },
  {
   "cell_type": "code",
   "execution_count": null,
   "metadata": {},
   "outputs": [],
   "source": [
    "from rdflib import Graph, URIRef"
   ]
  },
  {
   "cell_type": "code",
   "execution_count": null,
   "metadata": {},
   "outputs": [],
   "source": [
    "for key, value in arche_dict.items():\n",
    "    g = Graph()\n",
    "    sub = URIRef(key)\n",
    "    for tr in value:\n",
    "        g.add(\n",
    "            (sub, acdh_ns[tr[0]], URIRef(tr[1]))\n",
    "        )\n",
    "    tr_string = g.serialize(format='turtle').decode(\"utf-8\")\n",
    "    fc_res = FcResource.objects.get(fc_arche_id=key)\n",
    "    fc_res.fc_custom_rdf = str(tr_string)\n",
    "    fc_res.save()"
   ]
  }
 ],
 "metadata": {
  "kernelspec": {
   "display_name": "Django Shell-Plus",
   "language": "python",
   "name": "django_extensions"
  },
  "language_info": {
   "codemirror_mode": {
    "name": "ipython",
    "version": 3
   },
   "file_extension": ".py",
   "mimetype": "text/x-python",
   "name": "python",
   "nbconvert_exporter": "python",
   "pygments_lexer": "ipython3",
   "version": "3.7.3"
  }
 },
 "nbformat": 4,
 "nbformat_minor": 2
}
