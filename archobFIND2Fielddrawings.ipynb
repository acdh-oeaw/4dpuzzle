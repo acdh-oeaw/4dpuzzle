{
 "cells": [
  {
   "cell_type": "code",
   "execution_count": 1,
   "metadata": {
    "collapsed": true
   },
   "outputs": [],
   "source": [
    "fds = Fielddrawing.objects.all()"
   ]
  },
  {
   "cell_type": "code",
   "execution_count": 5,
   "metadata": {},
   "outputs": [
    {
     "name": "stdout",
     "output_type": "stream",
     "text": [
      "TD_FZ_1098 48\n",
      "TD_FZ_1099 50\n",
      "TD_FZ_1000 115\n",
      "TD_FZ_1026 56\n",
      "TD_FZ_1096 158\n",
      "TD_FZ_1097 132\n",
      "TD_FZ_1025 37\n"
     ]
    }
   ],
   "source": [
    "for x in fds:\n",
    "    libfinds = Find.objects.filter(resource_i=x.document_id)\n",
    "    if len(libfinds) > 0:\n",
    "        print(x, len(libfinds))"
   ]
  },
  {
   "cell_type": "code",
   "execution_count": null,
   "metadata": {
    "collapsed": true
   },
   "outputs": [],
   "source": []
  }
 ],
 "metadata": {
  "kernelspec": {
   "display_name": "Django Shell-Plus",
   "language": "python",
   "name": "django_extensions"
  },
  "language_info": {
   "codemirror_mode": {
    "name": "ipython",
    "version": 3
   },
   "file_extension": ".py",
   "mimetype": "text/x-python",
   "name": "python",
   "nbconvert_exporter": "python",
   "pygments_lexer": "ipython3",
   "version": "3.6.2"
  }
 },
 "nbformat": 4,
 "nbformat_minor": 2
}
